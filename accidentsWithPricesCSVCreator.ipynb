{
  "nbformat": 4,
  "nbformat_minor": 0,
  "metadata": {
    "colab": {
      "name": "Untitled5.ipynb",
      "provenance": []
    },
    "kernelspec": {
      "name": "python3",
      "display_name": "Python 3"
    }
  },
  "cells": [
    {
      "cell_type": "code",
      "metadata": {
        "id": "DE_YjkfcV2Qm"
      },
      "source": [
        "import pandas as pd\n",
        "from datetime import datetime\n",
        "from datetime import timedelta"
      ],
      "execution_count": null,
      "outputs": []
    },
    {
      "cell_type": "code",
      "metadata": {
        "id": "SjLzepKVX05m"
      },
      "source": [
        "accidents = pd.read_csv('accidents.csv')\n",
        "prices = pd.read_csv('prices.csv')"
      ],
      "execution_count": null,
      "outputs": []
    },
    {
      "cell_type": "code",
      "metadata": {
        "id": "hxCJ2RBuY1SU"
      },
      "source": [
        "def drop_columns(df, columns):\n",
        "  df = df.drop(columns, axis=1)\n",
        "  return df"
      ],
      "execution_count": null,
      "outputs": []
    },
    {
      "cell_type": "code",
      "metadata": {
        "id": "KaaVNUSsZEus"
      },
      "source": [
        "columns_to_drop = [\n",
        "        'Report Number', 'Supplemental Number', 'Accident Year', 'Operator ID', 'Operator Name',\n",
        "       'Pipeline/Facility Name', 'Pipeline Location', 'Pipeline Type',\n",
        "       'Liquid Type', 'Liquid Subtype', 'Liquid Name', 'Accident City',\n",
        "       'Accident County', 'Accident State', 'Accident Latitude',\n",
        "       'Accident Longitude', 'Cause Category', 'Cause Subcategory',\n",
        "       'Unintentional Release (Barrels)', 'Intentional Release (Barrels)',\n",
        "       'Liquid Recovery (Barrels)', 'Liquid Ignition',\n",
        "       'Liquid Explosion', 'Pipeline Shutdown', 'Shutdown Date/Time',\n",
        "       'Restart Date/Time', 'Public Evacuations', 'Operator Employee Injuries',\n",
        "       'Operator Contractor Injuries', 'Emergency Responder Injuries',\n",
        "       'Other Injuries', 'Public Injuries', 'All Injuries',\n",
        "       'Operator Employee Fatalities', 'Operator Contractor Fatalities',\n",
        "       'Emergency Responder Fatalities', 'Other Fatalities',\n",
        "       'Public Fatalities', 'Property Damage Costs',\n",
        "       'Lost Commodity Costs', 'Public/Private Property Damage Costs',\n",
        "       'Emergency Response Costs', 'Environmental Remediation Costs',\n",
        "       'Other Costs']\n",
        "accidents = drop_columns(accidents, columns_to_drop)"
      ],
      "execution_count": null,
      "outputs": []
    },
    {
      "cell_type": "code",
      "metadata": {
        "id": "EGKKhVmRv9vk"
      },
      "source": [
        "def find_price(date, prices):\n",
        "  for j in range(len(prices)):\n",
        "      if (str(date) == str(prices['date'][j])):\n",
        "        return prices['price'][j]\n",
        "  return False"
      ],
      "execution_count": null,
      "outputs": []
    },
    {
      "cell_type": "code",
      "metadata": {
        "id": "qutJYL3UcvO8"
      },
      "source": [
        "def make_prices(prices, accidents):\n",
        "  combined = pd.DataFrame(columns=[\"date\", \"barrels\", \"fatalities\", \"cost\", \"price\", \"next_day_price\", \"next_week_price\", \"next_day\", \"next_week\"])\n",
        "  for i in range(len(accidents)):\n",
        "    date = datetime.strptime(str(accidents['Accident Date/Time'][i]), '%m/%d/%Y %H:%M %p').date()\n",
        "    date2 = date\n",
        "    date3 = date + timedelta(days=1)\n",
        "    date4 = date + timedelta(days=7)\n",
        "    while True:\n",
        "      price = find_price(date2, prices)\n",
        "      next_day_price = find_price(date3, prices)\n",
        "      next_week_price = find_price(date4, prices)\n",
        "      if date3 > datetime.now().date(): next_day_price = 1\n",
        "      if date4 > datetime.now().date(): next_week_price = 1\n",
        "      if price and next_day_price and next_week_price: break\n",
        "      if price == False: date2 -= timedelta(days=1)\n",
        "      if next_day_price == False: date3 += timedelta(days=1)\n",
        "      if next_week_price == False: date4 += timedelta(days=1)\n",
        "    if float(price) > float(next_day_price): next_day = 0\n",
        "    else: next_day = 1\n",
        "    if float(price) > float(next_week_price): next_week = 0\n",
        "    else: next_week = 1\n",
        "    combined = combined.append({\n",
        "        \"date\": date,\n",
        "        \"barrels\": accidents['Net Loss (Barrels)'][i],\n",
        "        \"fatalities\": accidents['All Fatalities'][i],\n",
        "        \"cost\": accidents['All Costs'][i],\n",
        "        \"price\": price,\n",
        "        \"next_day_price\": next_day_price,\n",
        "        \"next_week_price\": next_week_price,\n",
        "        \"next_day\": next_day,\n",
        "        \"next_week\": next_week\n",
        "        }, ignore_index=True)\n",
        "  return combined"
      ],
      "execution_count": null,
      "outputs": []
    },
    {
      "cell_type": "code",
      "metadata": {
        "id": "jk63fUHzYBaS"
      },
      "source": [
        "accidents = make_prices(prices, accidents)"
      ],
      "execution_count": null,
      "outputs": []
    },
    {
      "cell_type": "code",
      "metadata": {
        "id": "APBbTQF9zdt0"
      },
      "source": [
        "accidents.to_csv('combined.csv', index=False)"
      ],
      "execution_count": null,
      "outputs": []
    }
  ]
}