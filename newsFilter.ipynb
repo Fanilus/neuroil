{
  "nbformat": 4,
  "nbformat_minor": 0,
  "metadata": {
    "colab": {
      "name": "filter.ipynb",
      "provenance": []
    },
    "kernelspec": {
      "name": "python3",
      "display_name": "Python 3"
    }
  },
  "cells": [
    {
      "cell_type": "code",
      "metadata": {
        "id": "ZwSp4rSSZCYb"
      },
      "source": [
        "import pandas as pd\n",
        "from datetime import datetime\n",
        "from datetime import timedelta"
      ],
      "execution_count": null,
      "outputs": []
    },
    {
      "cell_type": "code",
      "metadata": {
        "id": "47xUNBTdYY0E"
      },
      "source": [
        "def make_oil(df):\n",
        "  data = pd.DataFrame(columns=[\"url\", \"title\", \"date\", \"id\", \"tags\", \"description\"])\n",
        "  for i in range(len(df)):\n",
        "    if \"Generic 1st 'CL' Future\" in df['tags'][i] or \"oil\" in str(df['title'][i]).lower() or 'oil' in str(df['description'][i]).lower():\n",
        "      try: date = datetime.strptime(df['date'][i], '%Y-%m-%d').date()\n",
        "      except: continue\n",
        "      if \"nan\" == str(df['description'][i]).lower():\n",
        "        data = data.append({\"url\": df['url'][i], \"title\": df['title'][i], \"date\": date, \"id\": df['id'][i], \"tags\": df['tags'][i], \"description\": df['title'][i]}, ignore_index=True)\n",
        "      else:\n",
        "        data = data.append({\"url\": df['url'][i], \"title\": df['title'][i], \"date\": date, \"id\": df['id'][i], \"tags\": df['tags'][i], \"description\": df['description'][i]}, ignore_index=True)\n",
        "  return data"
      ],
      "execution_count": null,
      "outputs": []
    },
    {
      "cell_type": "code",
      "metadata": {
        "id": "LFzAzZ_isybZ"
      },
      "source": [
        "def find_price(date, prices):\n",
        "  for j in range(len(prices)):\n",
        "      if (str(date) == str(prices['date'][j])):\n",
        "        return prices['price'][j]\n",
        "  return False"
      ],
      "execution_count": null,
      "outputs": []
    },
    {
      "cell_type": "code",
      "metadata": {
        "id": "bL6IOqp5A9K5"
      },
      "source": [
        "def find_drill(date, drills):\n",
        "  for j in range(len(drills)):\n",
        "      if (str(date) == str(drills['date'][j])):\n",
        "        return [drills['fact'][j], drills['last'][j]]\n",
        "  return False"
      ],
      "execution_count": null,
      "outputs": []
    },
    {
      "cell_type": "code",
      "metadata": {
        "id": "jAFOjhFF01l4"
      },
      "source": [
        "def make_prices(prices, oil):\n",
        "  out = pd.DataFrame(columns=[\"url\", \"title\", \"date\", \"id\", \"tags\", \"description\", \"price\", \"next_day_price\", \"next_week_price\", \"next_day\", \"next_week\"])\n",
        "  for i in range(len(oil)):\n",
        "    date = oil['date'][i]\n",
        "    date2 = date\n",
        "    date3 = date + timedelta(days=1)\n",
        "    date4 = date + timedelta(days=7)\n",
        "    while True:\n",
        "      price = find_price(date2, prices)\n",
        "      next_day_price = find_price(date3, prices)\n",
        "      next_week_price = find_price(date4, prices)\n",
        "      if date3 > datetime.now().date(): next_day_price = 1\n",
        "      if date4 > datetime.now().date(): next_week_price = 1\n",
        "      if price and next_day_price and next_week_price: break\n",
        "      if price == False: date2 -= timedelta(days=1)\n",
        "      if next_day_price == False: date3 += timedelta(days=1)\n",
        "      if next_week_price == False: date4 += timedelta(days=1)\n",
        "    if float(price) > float(next_day_price): next_day = 0\n",
        "    else: next_day = 1\n",
        "    if float(price) > float(next_week_price): next_week = 0\n",
        "    else: next_week = 1\n",
        "    out = out.append({\n",
        "        \"url\": oil['url'][i],\n",
        "        \"title\": oil['title'][i],\n",
        "        \"date\": date,\n",
        "        \"id\": oil['id'][i],\n",
        "        \"tags\": oil['tags'][i],\n",
        "        \"description\": oil['description'][i],\n",
        "        \"price\": price,\n",
        "        \"next_day_price\": next_day_price,\n",
        "        \"next_week_price\": next_week_price,\n",
        "        \"next_day\": next_day,\n",
        "        \"next_week\": next_week\n",
        "        }, ignore_index=True)\n",
        "  return out"
      ],
      "execution_count": null,
      "outputs": []
    },
    {
      "cell_type": "code",
      "metadata": {
        "id": "COCfdSnLW9UK"
      },
      "source": [
        "def make_drills(drills, oil):\n",
        "  out2 = pd.DataFrame(columns=[\"url\", \"title\", \"date\", \"id\", \"tags\", \"description\", \"price\", \"next_day_price\", \"next_week_price\", \"next_day\", \"next_week\", \"drills_fact\", \"drills_last\"])\n",
        "  for i in range(len(oil)):\n",
        "    date = oil['date'][i]\n",
        "    date2 = date\n",
        "    while True:\n",
        "      drill = find_drill(date2, drills)\n",
        "      if drill: break\n",
        "      if drill == False: date2 -= timedelta(days=1)\n",
        "    drills_fact = drill[0]\n",
        "    drills_last = drill[1]\n",
        "    out2 = out2.append({\n",
        "        \"url\": str(oil['url'][i]),\n",
        "        \"title\": str(oil['title'][i]),\n",
        "        \"date\": str(date),\n",
        "        \"id\": str(oil['id'][i]),\n",
        "        \"tags\": str(oil['tags'][i]),\n",
        "        \"description\": str(oil['description'][i]),\n",
        "        \"price\": str(oil['price'][i]),\n",
        "        \"next_day_price\": str(oil['next_day_price'][i]),\n",
        "        \"next_week_price\": str(oil['next_week_price'][i]),\n",
        "        \"next_day\": str(oil['next_day'][i]),\n",
        "        \"next_week\": str(oil['next_week'][i]),\n",
        "        \"drills_fact\": str(drills_fact),\n",
        "        \"drills_last\": str(drills_last)\n",
        "        }, ignore_index=True)\n",
        "  return out2"
      ],
      "execution_count": null,
      "outputs": []
    },
    {
      "cell_type": "code",
      "metadata": {
        "id": "Hr19M_DXiTKg"
      },
      "source": [
        "df = pd.read_csv('data.csv')\n",
        "oil1 = make_oil(df)\n",
        "# print(oil1)"
      ],
      "execution_count": null,
      "outputs": []
    },
    {
      "cell_type": "code",
      "metadata": {
        "id": "4RLtDIW2iWRW"
      },
      "source": [
        "prices = pd.read_csv('prices.csv')\n",
        "oil2 = make_prices(prices, oil1)\n",
        "# print(oil2)"
      ],
      "execution_count": null,
      "outputs": []
    },
    {
      "cell_type": "code",
      "metadata": {
        "id": "3b63LNZ2iafa"
      },
      "source": [
        "drills = pd.read_csv('convertcsv.csv')\n",
        "oil3 = make_drills(drills, oil2)\n",
        "# print(oil3)"
      ],
      "execution_count": null,
      "outputs": []
    },
    {
      "cell_type": "code",
      "metadata": {
        "id": "9M1H2heaEc_o"
      },
      "source": [
        "#accidents = pd.read_csv('accidents.csv')"
      ],
      "execution_count": null,
      "outputs": []
    },
    {
      "cell_type": "code",
      "metadata": {
        "id": "5dia9r5y_DNy"
      },
      "source": [
        "#print(accidents.keys())"
      ],
      "execution_count": null,
      "outputs": []
    },
    {
      "cell_type": "code",
      "metadata": {
        "id": "vuupfcB3EqBI"
      },
      "source": [
        "# print(accidents['Net Loss (Barrels)'])\n",
        "# print(accidents['All Fatalities'])\n",
        "# print(accidents['All Costs'])"
      ],
      "execution_count": null,
      "outputs": []
    },
    {
      "cell_type": "code",
      "metadata": {
        "id": "T_f0Cot3ifY4",
        "outputId": "bd42fa8d-387b-435f-9a92-b4913032e6e1",
        "colab": {
          "base_uri": "https://localhost:8080/",
          "height": 34
        }
      },
      "source": [
        "print(len(oil3))\n",
        "oil3.to_csv('result.csv', index=False)"
      ],
      "execution_count": null,
      "outputs": [
        {
          "output_type": "stream",
          "text": [
            "6\n"
          ],
          "name": "stdout"
        }
      ]
    },
    {
      "cell_type": "code",
      "metadata": {
        "id": "sUxsL9FLcWuX"
      },
      "source": [
        "# df = pd.read_csv('data - копия.csv')\n",
        "# prices = pd.read_csv('prices.csv')\n",
        "# drills = pd.read_csv('convertcsv.csv')\n",
        "# oil = make_oil(df)\n",
        "# oil = make_prices(prices, oil)\n",
        "# oil = make_drills(drills, oil)\n",
        "# oil.to_csv('test.csv', index=False)"
      ],
      "execution_count": null,
      "outputs": []
    }
  ]
}