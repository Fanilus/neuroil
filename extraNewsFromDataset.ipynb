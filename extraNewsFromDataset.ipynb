{
  "nbformat": 4,
  "nbformat_minor": 0,
  "metadata": {
    "colab": {
      "name": "extra.ipynb",
      "provenance": []
    },
    "kernelspec": {
      "name": "python3",
      "display_name": "Python 3"
    }
  },
  "cells": [
    {
      "cell_type": "code",
      "metadata": {
        "id": "SYNZCMxadew8"
      },
      "source": [
        "import pandas as pd\n",
        "from datetime import datetime\n",
        "from datetime import timedelta"
      ],
      "execution_count": null,
      "outputs": []
    },
    {
      "cell_type": "code",
      "metadata": {
        "id": "udHKf8-yeDLd"
      },
      "source": [
        "oil = pd.read_csv('result.csv')\n",
        "news = pd.read_json('News_Category_Dataset_v2.json/News_Category_Dataset_v2.json', lines=True)\n",
        "filtered = pd.DataFrame(columns=[\"url\", \"title\", \"date\", \"id\", \"tags\", \"description\"])"
      ],
      "execution_count": null,
      "outputs": []
    },
    {
      "cell_type": "code",
      "metadata": {
        "id": "BzrWLjKGiqo1"
      },
      "source": [
        "def remove_categories(news):\n",
        "  news = news.drop(news[news['category'] == 'HEALTHY LIVING'].index)\n",
        "  news = news.drop(news[news['category'] == 'ARTS'].index)\n",
        "  news = news.drop(news[news['category'] == 'CULTURE & ARTS'].index)\n",
        "  news = news.drop(news[news['category'] == 'FOOD & DRINK'].index)\n",
        "  news = news.drop(news[news['category'] == 'WEDDINGS'].index)\n",
        "  news = news.drop(news[news['category'] == 'DIVORCE'].index)\n",
        "  news = news.drop(news[news['category'] == 'STYLE & BEAUTY'].index)\n",
        "  news = news.drop(news[news['category'] == 'HOME & LIVING'].index)\n",
        "  news = news.drop(news[news['category'] == 'PARENTING'].index)\n",
        "  news = news.drop(news[news['category'] == 'TASTE'].index)\n",
        "  news = news.drop(news[news['category'] == 'STYLE'].index)\n",
        "  news = news.drop(news[news['category'] == 'ARTS & CULTURE'].index)\n",
        "  news = news.drop(news[news['category'] == 'CRIME'].index)\n",
        "  news = news.drop(news[news['category'] == 'ENTERTAINMENT'].index)\n",
        "  news = news.drop(news[news['category'] == 'WEIRD NEWS'].index)\n",
        "  news = news.drop(news[news['category'] == 'BLACK VOICES'].index)\n",
        "  news = news.drop(news[news['category'] == 'WOMEN'].index)\n",
        "  news = news.drop(news[news['category'] == 'COMEDY'].index)\n",
        "  news = news.drop(news[news['category'] == 'QUEER VOICES'].index)\n",
        "  news = news.drop(news[news['category'] == 'SPORTS'].index)\n",
        "  news = news.drop(news[news['category'] == 'TRAVEL'].index)\n",
        "  news = news.drop(news[news['category'] == 'MEDIA'].index)\n",
        "  news = news.drop(news[news['category'] == 'RELIGION'].index)\n",
        "  news = news.drop(news[news['category'] == 'LATINO VOICES'].index)\n",
        "  return news.reset_index()"
      ],
      "execution_count": null,
      "outputs": []
    },
    {
      "cell_type": "code",
      "metadata": {
        "id": "UemZzXZokWIf"
      },
      "source": [
        "news = remove_categories(news)"
      ],
      "execution_count": null,
      "outputs": []
    },
    {
      "cell_type": "code",
      "metadata": {
        "id": "LB-4L74Df3qV"
      },
      "source": [
        "for i in range(len(news)):\n",
        "  if ' oil ' in str(news['headline'][i]).lower() or ' oil ' in str(news['short_description'][i]).lower():\n",
        "    filtered = filtered.append({\n",
        "        \"url\": news['link'][i],\n",
        "        \"title\": news['headline'][i],\n",
        "        \"date\": news['date'][i].date(),\n",
        "        \"id\": 'NO ID',\n",
        "        \"tags\": \"Generic 1st 'CL' Future\",\n",
        "        \"description\": news['short_description'][i]\n",
        "        }, ignore_index=True)"
      ],
      "execution_count": null,
      "outputs": []
    },
    {
      "cell_type": "code",
      "metadata": {
        "id": "He8e3VWSnifP"
      },
      "source": [
        "filtered.to_csv('extra.csv', index=False)"
      ],
      "execution_count": null,
      "outputs": []
    }
  ]
}