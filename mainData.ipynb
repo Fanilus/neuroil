{
  "nbformat": 4,
  "nbformat_minor": 0,
  "metadata": {
    "colab": {
      "name": "Untitled5.ipynb",
      "provenance": []
    },
    "kernelspec": {
      "name": "python3",
      "display_name": "Python 3"
    }
  },
  "cells": [
    {
      "cell_type": "code",
      "metadata": {
        "id": "ZwSp4rSSZCYb",
        "colab_type": "code",
        "colab": {}
      },
      "source": [
        "import pandas as pd\n",
        "from datetime import datetime\n",
        "from datetime import timedelta "
      ],
      "execution_count": 365,
      "outputs": []
    },
    {
      "cell_type": "code",
      "metadata": {
        "id": "47xUNBTdYY0E",
        "colab_type": "code",
        "colab": {}
      },
      "source": [
        "def make_oil(df):\n",
        "  data = pd.DataFrame(columns=[\"url\", \"title\", \"date\", \"id\", \"tags\", \"description\"])\n",
        "  for i in range(len(df)):\n",
        "    if \"Generic 1st 'CL' Future\" in df['tags'][i] or \"oil\" in str(df['title'][i]).lower() or 'oil' in str(df['description'][i]).lower():\n",
        "      try: date = datetime.strptime(df['date'][i], '%Y-%m-%d').date()\n",
        "      except: continue\n",
        "      data = data.append({\"url\": df['url'][i], \"title\": df['title'][i], \"date\": date, \"id\": df['id'][i], \"tags\": df['tags'][i], \"description\": df['description'][i]}, ignore_index=True)\n",
        "  return data"
      ],
      "execution_count": 366,
      "outputs": []
    },
    {
      "cell_type": "code",
      "metadata": {
        "id": "LFzAzZ_isybZ",
        "colab_type": "code",
        "colab": {}
      },
      "source": [
        "def find_price(date, prices):\n",
        "  for j in range(len(prices)):\n",
        "      if (str(date) == str(prices['date'][j])):\n",
        "        return prices['price'][j]\n",
        "  return False"
      ],
      "execution_count": 367,
      "outputs": []
    },
    {
      "cell_type": "code",
      "metadata": {
        "id": "bL6IOqp5A9K5",
        "colab_type": "code",
        "colab": {}
      },
      "source": [
        "def find_drill(date, drills):\n",
        "  for j in range(len(drills)):\n",
        "      if (str(date) == str(drills['date'][j])):\n",
        "        return [drills['fact'][j], drills['last'][j]]\n",
        "  return False"
      ],
      "execution_count": 368,
      "outputs": []
    },
    {
      "cell_type": "code",
      "metadata": {
        "id": "jAFOjhFF01l4",
        "colab_type": "code",
        "colab": {}
      },
      "source": [
        "def make_prices(prices, oil):\n",
        "  out = pd.DataFrame(columns=[\"url\", \"title\", \"date\", \"id\", \"tags\", \"description\", \"price\", \"next_day_price\", \"next_week_price\", \"next_day\", \"next_week\"])\n",
        "  for i in range(len(oil)):\n",
        "    date = oil['date'][i]\n",
        "    date2 = date\n",
        "    date3 = date + timedelta(days=1)\n",
        "    date4 = date + timedelta(days=7)\n",
        "    while True:\n",
        "      price = find_price(date2, prices)\n",
        "      next_day_price = find_price(date3, prices)\n",
        "      next_week_price = find_price(date4, prices)\n",
        "      if date3 > datetime.now().date(): next_day_price = 1\n",
        "      if date4 > datetime.now().date(): next_week_price = 1\n",
        "      if price and next_day_price and next_week_price: break\n",
        "      if price == False: date2 -= timedelta(days=1)\n",
        "      if next_day_price == False: date3 += timedelta(days=1)\n",
        "      if next_week_price == False: date4 += timedelta(days=1)\n",
        "    if float(price) > float(next_day_price): next_day = 0\n",
        "    else: next_day = 1\n",
        "    if float(price) > float(next_week_price): next_week = 0\n",
        "    else: next_week = 1\n",
        "    out = out.append({\n",
        "        \"url\": oil['url'][i],\n",
        "        \"title\": oil['title'][i],\n",
        "        \"date\": date,\n",
        "        \"id\": oil['id'][i],\n",
        "        \"tags\": oil['tags'][i],\n",
        "        \"description\": oil['description'][i],\n",
        "        \"price\": price,\n",
        "        \"next_day_price\": next_day_price,\n",
        "        \"next_week_price\": next_week_price,\n",
        "        \"next_day\": next_day,\n",
        "        \"next_week\": next_week\n",
        "        }, ignore_index=True)\n",
        "  return out"
      ],
      "execution_count": 369,
      "outputs": []
    },
    {
      "cell_type": "code",
      "metadata": {
        "id": "COCfdSnLW9UK",
        "colab_type": "code",
        "colab": {}
      },
      "source": [
        "def make_drills(drills, oil):\n",
        "  out2 = pd.DataFrame(columns=[\"url\", \"title\", \"date\", \"id\", \"tags\", \"description\", \"price\", \"next_day_price\", \"next_week_price\", \"next_day\", \"next_week\", \"drills_fact\", \"drills_last\"])\n",
        "  for i in range(len(oil)):\n",
        "    date = oil['date'][i]\n",
        "    date2 = date\n",
        "    while True:\n",
        "      drill = find_drill(date2, drills)\n",
        "      if drill: break\n",
        "      if drill == False: date2 -= timedelta(days=1)\n",
        "    drills_fact = drill[0]\n",
        "    drills_last = drill[1]\n",
        "    out2 = out2.append({\n",
        "        \"url\": oil['url'][i],\n",
        "        \"title\": oil['title'][i],\n",
        "        \"date\": str(date),\n",
        "        \"id\": oil['id'][i],\n",
        "        \"tags\": oil['tags'][i],\n",
        "        \"description\": oil['description'][i],\n",
        "        \"price\": oil['price'][i],\n",
        "        \"next_day_price\": oil['next_day_price'][i],\n",
        "        \"next_week_price\": oil['next_week_price'][i],\n",
        "        \"next_day\": oil['next_day'][i],\n",
        "        \"next_week\": oil['next_week'][i],\n",
        "        \"drills_fact\": drills_fact,\n",
        "        \"drills_last\": drills_last\n",
        "        }, ignore_index=True)\n",
        "  return out2"
      ],
      "execution_count": 370,
      "outputs": []
    },
    {
      "cell_type": "code",
      "metadata": {
        "id": "Hr19M_DXiTKg",
        "colab_type": "code",
        "colab": {
          "base_uri": "https://localhost:8080/",
          "height": 918
        },
        "outputId": "651fc80e-0500-4085-f0a4-14eab23a5dd6"
      },
      "source": [
        "df = pd.read_csv('data - копия.csv')\n",
        "oil1 = make_oil(df)\n",
        "# print(oil1)"
      ],
      "execution_count": 371,
      "outputs": [
        {
          "output_type": "stream",
          "text": [
            "                                                    url  \\\n",
            "0     https://www.bloomberg.com/news/articles/2020-0...   \n",
            "1     https://www.bloomberg.com/news/articles/2020-0...   \n",
            "2     https://www.bloomberg.com/news/articles/2020-0...   \n",
            "3     https://www.bloomberg.com/news/articles/2020-0...   \n",
            "4     https://www.bloomberg.com/news/articles/2020-0...   \n",
            "...                                                 ...   \n",
            "2188  https://www.bloomberg.com/news/articles/2020-0...   \n",
            "2189  https://www.bloomberg.com/news/articles/2020-0...   \n",
            "2190  https://www.bloomberg.com/news/articles/2020-0...   \n",
            "2191  https://www.bloomberg.com/news/articles/2020-0...   \n",
            "2192  https://www.bloomberg.com/news/articles/2020-0...   \n",
            "\n",
            "                                                  title        date  \\\n",
            "0     Why We Still Can’t Stop Oil Spills From Damagi...  2020-09-10   \n",
            "1     One of the World’s Richest Petrostates Is Runn...  2020-09-02   \n",
            "2     Apollo Group Invests $2.7 Billion in UAE Oil F...  2020-09-02   \n",
            "3     Hin Leong Banks Hit a Snag to Tap $1.5 Billion...  2020-09-01   \n",
            "4     Australia’s $200 Billion LNG Boom Waylaid by C...  2020-09-04   \n",
            "...                                                 ...         ...   \n",
            "2188     Five Things You Need to Know to Start Your Day  2020-03-31   \n",
            "2189  Virus Drives Record Sales of Sanitary Products...  2020-03-31   \n",
            "2190  Home Cooks Are Grabbing Discount Wagyu, Uni, a...  2020-03-30   \n",
            "2191  JPMorgan Seeks Up to $10 Billion for Alternati...  2020-03-30   \n",
            "2192  Paying $4.79 a Gallon, California Didn’t Get t...  2020-03-31   \n",
            "\n",
            "                  id                                               tags  \\\n",
            "0     QFRC52DWLU6K01  Generic 1st 'CL' Future,Environment,Mauritius,...   \n",
            "1     QFKLUNT0G1KZ01  Kuwait,Generic 1st 'CL' Future,Organization of...   \n",
            "2     QFPY0YT0AFB601  Generic 1st 'CL' Future,Abu Dhabi,APOLLO EDUCA...   \n",
            "3     QFR1LQT1UM0W01  Generic 1st 'CL' Future,HSBC HOLDINGS PLC,Sing...   \n",
            "4     QFJFC4T0AFB601  Australia,Government,CHEVRON CORP,Generic 1st ...   \n",
            "...              ...                                                ...   \n",
            "2188  Q81LHET0AFBA01  Stock Futures,Europe,Generic 1st 'CL' Future,C...   \n",
            "2189  Q81EY5T0G1KY01  Japan,Coronavirus,Alcohol,Shinzo Abe,Markets,P...   \n",
            "2190  Q80MZPDWLU6F01  Coronavirus,New York,British Pound Spot,Generi...   \n",
            "2191  Q80K42T0G1KW01  JPMORGAN CHASE & CO,Alternative Investments,Co...   \n",
            "2192  Q80JXNT0G1L701  California,Generic 1st 'XB' Future,Hawaii,Conn...   \n",
            "\n",
            "                                            description  \n",
            "0     It has been more than half a century since the...  \n",
            "1     When Kuwait’s then-Finance Minister Anas Al-Sa...  \n",
            "2     A consortium led by Apollo Global Management I...  \n",
            "3     Efforts by banks including HSBC Holdings Plc a...  \n",
            "4     Cooks on strike and cracked equipment are amon...  \n",
            "...                                                 ...  \n",
            "2188         Get up to speed with what’s moving markets  \n",
            "2189  Japanese sellers of masks, toilet paper and ot...  \n",
            "2190  Forget those canned beans. Ultraluxe foods are...  \n",
            "2191  JPMorgan Chase & Co.’s alternative-investments...  \n",
            "2192  At least there’s this: The average price for a...  \n",
            "\n",
            "[2193 rows x 6 columns]\n"
          ],
          "name": "stdout"
        }
      ]
    },
    {
      "cell_type": "code",
      "metadata": {
        "id": "4RLtDIW2iWRW",
        "colab_type": "code",
        "colab": {}
      },
      "source": [
        "prices = pd.read_csv('prices.csv')\n",
        "oil2 = make_prices(prices, oil1)\n",
        "# print(oil2)"
      ],
      "execution_count": 372,
      "outputs": []
    },
    {
      "cell_type": "code",
      "metadata": {
        "id": "3b63LNZ2iafa",
        "colab_type": "code",
        "colab": {}
      },
      "source": [
        "drills = pd.read_csv('convertcsv.csv')\n",
        "oil3 = make_drills(drills, oil2)\n",
        "# print(oil3)"
      ],
      "execution_count": 373,
      "outputs": []
    },
    {
      "cell_type": "code",
      "metadata": {
        "id": "9M1H2heaEc_o",
        "colab_type": "code",
        "colab": {}
      },
      "source": [
        "#accidents = pd.read_csv('accidents.csv')"
      ],
      "execution_count": 374,
      "outputs": []
    },
    {
      "cell_type": "code",
      "metadata": {
        "id": "5dia9r5y_DNy",
        "colab_type": "code",
        "colab": {}
      },
      "source": [
        "#print(accidents.keys())"
      ],
      "execution_count": 375,
      "outputs": []
    },
    {
      "cell_type": "code",
      "metadata": {
        "id": "vuupfcB3EqBI",
        "colab_type": "code",
        "colab": {}
      },
      "source": [
        "# print(accidents['Net Loss (Barrels)'])\n",
        "# print(accidents['All Fatalities'])\n",
        "# print(accidents['All Costs'])"
      ],
      "execution_count": 376,
      "outputs": []
    },
    {
      "cell_type": "code",
      "metadata": {
        "id": "T_f0Cot3ifY4",
        "colab_type": "code",
        "colab": {}
      },
      "source": [
        "oil3.to_csv('result.csv', index=False)"
      ],
      "execution_count": 377,
      "outputs": []
    },
    {
      "cell_type": "code",
      "metadata": {
        "id": "sUxsL9FLcWuX",
        "colab_type": "code",
        "colab": {}
      },
      "source": [
        "# df = pd.read_csv('data - копия.csv')\n",
        "# prices = pd.read_csv('prices.csv')\n",
        "# drills = pd.read_csv('convertcsv.csv')\n",
        "# oil = make_oil(df)\n",
        "# oil = make_prices(prices, oil)\n",
        "# oil = make_drills(drills, oil)\n",
        "# oil.to_csv('test.csv', index=False)"
      ],
      "execution_count": 378,
      "outputs": []
    }
  ]
}