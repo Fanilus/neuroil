{
  "nbformat": 4,
  "nbformat_minor": 0,
  "metadata": {
    "colab": {
      "name": "convertDates.ipynb",
      "provenance": []
    },
    "kernelspec": {
      "name": "python3",
      "display_name": "Python 3"
    }
  },
  "cells": [
    {
      "cell_type": "code",
      "metadata": {
        "id": "beoRGzsDkpvo"
      },
      "source": [
        "import pandas as pd\n",
        "from datetime import datetime\n",
        "from datetime import timedelta"
      ],
      "execution_count": null,
      "outputs": []
    },
    {
      "cell_type": "code",
      "metadata": {
        "id": "qexnunwEk-V1"
      },
      "source": [
        "prices = pd.read_csv('BrentOilPrices.csv')"
      ],
      "execution_count": null,
      "outputs": []
    },
    {
      "cell_type": "code",
      "metadata": {
        "id": "KY_A3sc3lHXG"
      },
      "source": [
        "# date_str1 = 'Wednesday, June 6, 2018'\n",
        "# date_str2 = '6/6/18'\n",
        "# date_str3 = '06-06-2018'\n",
        "\n",
        "# # Define dates as datetime objects\n",
        "# date_dt1 = datetime.strptime(date_str1, '%A, %B %d, %Y')\n",
        "# date_dt2 = datetime.strptime(date_str2, '%m/%d/%y')\n",
        "# date_dt3 = datetime.strptime(date_str3, '%m-%d-%Y')\n",
        "def convert(prices):\n",
        "  converted = pd.DataFrame(columns=[\"date\", \"price\"])\n",
        "  for i in range(len(prices)):\n",
        "    try:\n",
        "      date = datetime.strptime(str(prices['Date'][i]), '%Y-%m-%d').date()\n",
        "    except:\n",
        "      try:\n",
        "        date = datetime.strptime(str(prices['Date'][i]), '%d-%b-%y').date()\n",
        "      except:\n",
        "        try:\n",
        "          date = datetime.strptime(str(prices['Date'][i]), '%b %d, %Y').date()\n",
        "        except:\n",
        "          print(str(prices['Date'][i]))\n",
        "    converted = converted.append({\"date\": date, \"price\": prices['Price'][i]}, ignore_index=True)\n",
        "  return converted"
      ],
      "execution_count": null,
      "outputs": []
    },
    {
      "cell_type": "code",
      "metadata": {
        "id": "KU3IWVU9lF9k"
      },
      "source": [
        "prices = convert(prices)\n",
        "prices.to_csv('converted.csv', index=False)"
      ],
      "execution_count": null,
      "outputs": []
    }
  ]
}