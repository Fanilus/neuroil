{
  "nbformat": 4,
  "nbformat_minor": 0,
  "metadata": {
    "colab": {
      "name": "elon.ipynb",
      "provenance": []
    },
    "kernelspec": {
      "name": "python3",
      "display_name": "Python 3"
    }
  },
  "cells": [
    {
      "cell_type": "code",
      "metadata": {
        "id": "aAm-gmjv91sk"
      },
      "source": [
        "import pandas as pd\n",
        "from datetime import datetime\n",
        "from datetime import timedelta"
      ],
      "execution_count": null,
      "outputs": []
    },
    {
      "cell_type": "code",
      "metadata": {
        "id": "5MxF_QKU2rGB"
      },
      "source": [
        "prices = pd.read_csv('prices.csv')\n",
        "tweet = pd.read_json('user-tweets.jsonl', lines=True)"
      ],
      "execution_count": null,
      "outputs": []
    },
    {
      "cell_type": "code",
      "metadata": {
        "id": "_66t9xop_MDD"
      },
      "source": [
        "def find_price(date, prices):\n",
        "  for j in range(len(prices)):\n",
        "      if (str(date) == str(prices['date'][j])):\n",
        "        return prices['price'][j]\n",
        "  return False"
      ],
      "execution_count": null,
      "outputs": []
    },
    {
      "cell_type": "code",
      "metadata": {
        "id": "P61RDHMd_Jus"
      },
      "source": [
        "def make_prices(prices, tweet):\n",
        "  combined = pd.DataFrame(columns=[\"date\", \"tweet\", \"price\", \"next_day_price\", \"next_week_price\", \"next_day\", \"next_week\"])\n",
        "  for i in range(len(tweet)):\n",
        "    date = datetime.strptime(str(elon['CreatedAt'][i]), '%B %d, %Y at %H:%M%p').date()\n",
        "    date2 = date\n",
        "    date3 = date + timedelta(days=1)\n",
        "    date4 = date + timedelta(days=7)\n",
        "    while True:\n",
        "      price = find_price(date2, prices)\n",
        "      next_day_price = find_price(date3, prices)\n",
        "      next_week_price = find_price(date4, prices)\n",
        "      if date3 > datetime.now().date(): next_day_price = 1\n",
        "      if date4 > datetime.now().date(): next_week_price = 1\n",
        "      if price and next_day_price and next_week_price: break\n",
        "      if price == False: date2 -= timedelta(days=1)\n",
        "      if next_day_price == False: date3 += timedelta(days=1)\n",
        "      if next_week_price == False: date4 += timedelta(days=1)\n",
        "    if float(price) > float(next_day_price): next_day = 0\n",
        "    else: next_day = 1\n",
        "    if float(price) > float(next_week_price): next_week = 0\n",
        "    else: next_week = 1\n",
        "    combined = combined.append({\n",
        "        \"date\": date,\n",
        "        \"tweet\": tweet['Text'][i],\n",
        "        \"price\": price,\n",
        "        \"next_day_price\": next_day_price,\n",
        "        \"next_week_price\": next_week_price,\n",
        "        \"next_day\": next_day,\n",
        "        \"next_week\": next_week\n",
        "        }, ignore_index=True)\n",
        "    print(combined)\n",
        "  return combined"
      ],
      "execution_count": null,
      "outputs": []
    },
    {
      "cell_type": "code",
      "metadata": {
        "id": "k7vIa2Wh-TXz",
        "outputId": "b399ec8f-a361-4816-d8bd-094fbcfd342e",
        "colab": {
          "base_uri": "https://localhost:8080/",
          "height": 34
        }
      },
      "source": [
        "print(elon.keys())"
      ],
      "execution_count": null,
      "outputs": [
        {
          "output_type": "stream",
          "text": [
            "Index(['Text', 'UserName', 'LinkToTweet', 'TweetEmbedCode', 'CreatedAt'], dtype='object')\n"
          ],
          "name": "stdout"
        }
      ]
    },
    {
      "cell_type": "code",
      "metadata": {
        "id": "k1u-1kPDC_NF",
        "outputId": "7106957d-ec25-4507-e223-5ede06bafa75",
        "colab": {
          "base_uri": "https://localhost:8080/",
          "height": 34
        }
      },
      "source": [
        "date = datetime.strptime(str(elon['CreatedAt'][0]), '%B %d, %Y at %H:%M%p').date()\n",
        "print(date)"
      ],
      "execution_count": null,
      "outputs": [
        {
          "output_type": "stream",
          "text": [
            "2017-12-02\n"
          ],
          "name": "stdout"
        }
      ]
    },
    {
      "cell_type": "code",
      "metadata": {
        "id": "Ccq_uZ0jD7J2"
      },
      "source": [
        "combined = make_prices(prices, tweet)"
      ],
      "execution_count": null,
      "outputs": []
    },
    {
      "cell_type": "code",
      "metadata": {
        "id": "j8q_LjDlEGk-",
        "outputId": "fc418e1c-c802-4828-baa8-bb155210e6e6",
        "colab": {
          "base_uri": "https://localhost:8080/",
          "height": 476
        }
      },
      "source": [
        "print(combined)"
      ],
      "execution_count": null,
      "outputs": [
        {
          "output_type": "stream",
          "text": [
            "            date                                              tweet  price  \\\n",
            "0     2017-12-02  @highqualitysh1t I love the thought of a car d...  64.57   \n",
            "1     2017-12-02  @novaspivack Asimov's Foundation books should ...  64.57   \n",
            "2     2017-12-03  @novaspivack That's certainly the right way to...  64.57   \n",
            "3     2017-12-03  To preserve the transcendent majesty &amp; spe...  64.57   \n",
            "4     2017-12-03                 @harrisonlingren @JW8888888 Busted  64.57   \n",
            "...          ...                                                ...    ...   \n",
            "8904  2020-09-17         @ChrisDungeon Lot has happened in 13 years  38.57   \n",
            "8905  2020-09-18  @Erdayastronaut Current was too strong for dro...  38.57   \n",
            "8906  2020-09-18                              @TENETFilm Good movie  38.57   \n",
            "8907  2020-09-18  @DeborahPatteri @TENETFilm Sure, but which pla...  38.57   \n",
            "8908  2020-09-18                         of course I still love you  38.57   \n",
            "\n",
            "      next_day_price  next_week_price next_day next_week  \n",
            "0              63.45            65.62        0         1  \n",
            "1              63.45            65.62        0         1  \n",
            "2              63.45            65.62        0         1  \n",
            "3              63.45            65.62        0         1  \n",
            "4              63.45            65.62        0         1  \n",
            "...              ...              ...      ...       ...  \n",
            "8904            1.00             1.00        0         0  \n",
            "8905            1.00             1.00        0         0  \n",
            "8906            1.00             1.00        0         0  \n",
            "8907            1.00             1.00        0         0  \n",
            "8908            1.00             1.00        0         0  \n",
            "\n",
            "[8909 rows x 7 columns]\n"
          ],
          "name": "stdout"
        }
      ]
    },
    {
      "cell_type": "code",
      "metadata": {
        "id": "9tlIvGeTH18m"
      },
      "source": [
        "combined.to_csv('combined.csv', index=False)"
      ],
      "execution_count": null,
      "outputs": []
    }
  ]
}