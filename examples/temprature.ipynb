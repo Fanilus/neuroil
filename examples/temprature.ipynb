{
  "nbformat": 4,
  "nbformat_minor": 0,
  "metadata": {
    "colab": {
      "name": "krolevarka.ipynb",
      "provenance": [],
      "collapsed_sections": []
    },
    "kernelspec": {
      "name": "python3",
      "display_name": "Python 3"
    }
  },
  "cells": [
    {
      "cell_type": "code",
      "metadata": {
        "id": "DElRWNSdNhWx"
      },
      "source": [
        "import numpy as np\n",
        "import matplotlib.pyplot as plt\n",
        "from tensorflow import keras\n",
        "from tensorflow.keras.layers import Dense"
      ],
      "execution_count": null,
      "outputs": []
    },
    {
      "cell_type": "code",
      "metadata": {
        "id": "NBO_nPpMPPxL",
        "outputId": "e2a18898-c0a1-4cbf-8d48-692a3b01da19",
        "colab": {
          "base_uri": "https://localhost:8080/",
          "height": 276
        }
      },
      "source": [
        "c = np.array([-80, -40, -10, 0, 8, 15, 22, 38, 50, 100, 1500, 10000])\n",
        "f = np.array([-112, -40, 14, 32, 46, 59, 72, 100, 122, 212, 2732, 18032])\n",
        "\n",
        "model = keras.Sequential()\n",
        "model.add(Dense(units=12, input_shape=(1,), activation='linear'))\n",
        "model.add(Dense(units=6, input_shape=(1,), activation='linear'))\n",
        "model.add(Dense(units=3, input_shape=(1,), activation='linear'))\n",
        "model.add(Dense(units=1, input_shape=(1,), activation='linear'))\n",
        "model.compile(loss='mean_squared_error', optimizer=keras.optimizers.Adam(0.1))\n",
        "history = model.fit(c, f, epochs=500, verbose=0)\n",
        "\n",
        "plt.plot(history.history['loss'])\n",
        "plt.grid(True)\n",
        "plt.show()"
      ],
      "execution_count": null,
      "outputs": [
        {
          "output_type": "display_data",
          "data": {
            "image/png": "[encoded data removed]",
            "text/plain": [
              "<Figure size 432x288 with 1 Axes>"
            ]
          },
          "metadata": {
            "tags": [],
            "needs_background": "light"
          }
        }
      ]
    },
    {
      "cell_type": "code",
      "metadata": {
        "id": "sDVdCXoaRsH1",
        "outputId": "e85881f6-2954-48cb-e2fa-2e25b60115de",
        "colab": {
          "base_uri": "https://localhost:8080/",
          "height": 34
        }
      },
      "source": [
        "print(model.predict([100]))"
      ],
      "execution_count": null,
      "outputs": [
        {
          "output_type": "stream",
          "text": [
            "[[210.56824]]\n"
          ],
          "name": "stdout"
        }
      ]
    },
    {
      "cell_type": "code",
      "metadata": {
        "id": "7hoHvc35SHa1",
        "outputId": "c692a6ff-1132-487d-8233-c6988597d355",
        "colab": {
          "base_uri": "https://localhost:8080/",
          "height": 34
        }
      },
      "source": [
        "print(model.get_weights())"
      ],
      "execution_count": null,
      "outputs": [
        {
          "output_type": "stream",
          "text": [
            "[array([[1.8029792]], dtype=float32), array([5.762678], dtype=float32)]\n"
          ],
          "name": "stdout"
        }
      ]
    }
  ]
}